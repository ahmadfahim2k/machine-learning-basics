{
 "cells": [
  {
   "cell_type": "code",
   "execution_count": 1,
   "id": "7b2de30a",
   "metadata": {},
   "outputs": [],
   "source": [
    "import numpy as np\n",
    "import matplotlib.pyplot as plt\n",
    "from sklearn.datasets import make_classification\n",
    "from sklearn.linear_model import LogisticRegression\n",
    "from sklearn.model_selection import train_test_split"
   ]
  },
  {
   "cell_type": "code",
   "execution_count": 4,
   "id": "4d315ac3",
   "metadata": {},
   "outputs": [],
   "source": [
    "X, y = make_classification(\n",
    "    n_samples= 1000,\n",
    "    n_features= 10,\n",
    "    n_informative=4,\n",
    "    n_redundant=6,\n",
    "    n_repeated=0,\n",
    "    n_classes=2,\n",
    "    random_state=42\n",
    ")\n",
    "\n",
    "#Splitting data\n",
    "X_train, X_test, y_train, y_test = train_test_split(X, y, test_size=0.25, random_state=42)"
   ]
  },
  {
   "cell_type": "markdown",
   "id": "776cc247",
   "metadata": {},
   "source": [
    "## Logistic Regression Model"
   ]
  },
  {
   "cell_type": "code",
   "execution_count": 6,
   "id": "b2743962",
   "metadata": {},
   "outputs": [
    {
     "name": "stdout",
     "output_type": "stream",
     "text": [
      "              precision    recall  f1-score   support\n",
      "\n",
      "           0       0.69      0.66      0.67       127\n",
      "           1       0.66      0.69      0.68       123\n",
      "\n",
      "    accuracy                           0.68       250\n",
      "   macro avg       0.68      0.68      0.68       250\n",
      "weighted avg       0.68      0.68      0.68       250\n",
      "\n"
     ]
    }
   ],
   "source": [
    "model = LogisticRegression()\n",
    "model.fit(X_train, y_train)\n",
    "\n",
    "from sklearn.metrics import classification_report\n",
    "\n",
    "y_pred = model.predict(X_test)\n",
    "report = classification_report(y_pred, y_test)\n",
    "print(report)"
   ]
  },
  {
   "cell_type": "code",
   "execution_count": 28,
   "id": "8563b742",
   "metadata": {},
   "outputs": [
    {
     "name": "stdout",
     "output_type": "stream",
     "text": [
      "              precision    recall  f1-score   support\n",
      "\n",
      "           0       0.75      0.57      0.65       122\n",
      "           1       0.67      0.82      0.74       128\n",
      "\n",
      "    accuracy                           0.70       250\n",
      "   macro avg       0.71      0.70      0.69       250\n",
      "weighted avg       0.71      0.70      0.70       250\n",
      "\n"
     ]
    }
   ],
   "source": [
    "probabilities = model.predict_proba(X_test)[:,1]\n",
    "custom_pred = (probabilities > 0.4).astype(int)\n",
    "\n",
    "report = classification_report(y_test, y_pred=custom_pred)\n",
    "print(report)"
   ]
  },
  {
   "cell_type": "code",
   "execution_count": 32,
   "id": "95e2b3ba",
   "metadata": {},
   "outputs": [
    {
     "data": {
      "text/plain": [
       "(array([0.        , 0.        , 0.        , 0.00819672, 0.00819672]),\n",
       " array([0.       , 0.0078125, 0.265625 , 0.265625 , 0.2890625]),\n",
       " array([       inf, 0.97928246, 0.80890214, 0.80840719, 0.80207033]))"
      ]
     },
     "execution_count": 32,
     "metadata": {},
     "output_type": "execute_result"
    }
   ],
   "source": [
    "from sklearn.metrics import roc_curve\n",
    "\n",
    "fpr, tpr, thresholds = roc_curve(y_test, probabilities)\n",
    "fpr[:5], tpr[:5], thresholds[:5]"
   ]
  },
  {
   "cell_type": "code",
   "execution_count": 36,
   "id": "a1445b3f",
   "metadata": {},
   "outputs": [
    {
     "data": {
      "text/plain": [
       "np.int64(76)"
      ]
     },
     "execution_count": 36,
     "metadata": {},
     "output_type": "execute_result"
    }
   ],
   "source": [
    "desired_recall = 0.9\n",
    "\n",
    "closest_index = np.argmin(abs(tpr - desired_recall))\n",
    "closest_index"
   ]
  },
  {
   "cell_type": "code",
   "execution_count": 37,
   "id": "66e93b0d",
   "metadata": {},
   "outputs": [
    {
     "data": {
      "text/plain": [
       "np.float64(0.26349585272229664)"
      ]
     },
     "execution_count": 37,
     "metadata": {},
     "output_type": "execute_result"
    }
   ],
   "source": [
    "thresholds[closest_index]"
   ]
  },
  {
   "cell_type": "code",
   "execution_count": 39,
   "id": "9221f4a4",
   "metadata": {},
   "outputs": [
    {
     "name": "stdout",
     "output_type": "stream",
     "text": [
      "              precision    recall  f1-score   support\n",
      "\n",
      "           0       0.73      0.30      0.42       122\n",
      "           1       0.57      0.90      0.70       128\n",
      "\n",
      "    accuracy                           0.60       250\n",
      "   macro avg       0.65      0.60      0.56       250\n",
      "weighted avg       0.65      0.60      0.56       250\n",
      "\n"
     ]
    }
   ],
   "source": [
    "probabilities = model.predict_proba(X_test)[:,1]\n",
    "custom_pred = (probabilities > 0.26349585272229664).astype(int)\n",
    "\n",
    "report = classification_report(y_test, y_pred=custom_pred)\n",
    "print(report)"
   ]
  },
  {
   "cell_type": "code",
   "execution_count": 41,
   "id": "9a2e5ca0",
   "metadata": {},
   "outputs": [
    {
     "data": {
      "text/plain": [
       "np.float64(0.764856557377049)"
      ]
     },
     "execution_count": 41,
     "metadata": {},
     "output_type": "execute_result"
    }
   ],
   "source": [
    "from sklearn.metrics import auc\n",
    "\n",
    "area = auc(fpr, tpr)\n",
    "area"
   ]
  },
  {
   "cell_type": "code",
   "execution_count": 67,
   "id": "7e01d79f",
   "metadata": {},
   "outputs": [],
   "source": [
    "def plotChart(fpr, tpr, area, fpr2 = [False], tpr2 = None, area2 = None):\n",
    "    plt.figure()\n",
    "    plt.plot(fpr, tpr, color='darkorange', lw=2, label='ROC curve (area=%0.2f)' % area)\n",
    "    plt.plot(fpr2, tpr2, color='green', lw=2, label='ROC curve (area=%0.2f)' % area2) if False not in fpr2 else None\n",
    "    plt.plot([0, 1], [0, 1], color='navy', lw=2, linestyle='--')\n",
    "    plt.xlim([0.0, 1.0]),\n",
    "    plt.ylim([0.0, 1.05])\n",
    "    plt.xlabel('False Positive Rate')\n",
    "    plt.ylabel('True Positive Rate')\n",
    "    plt.title('Receiver Operating Characteristic')\n",
    "    plt.legend (loc= \"lower right\")\n",
    "    plt.show()"
   ]
  },
  {
   "cell_type": "code",
   "execution_count": 68,
   "id": "137d091a",
   "metadata": {},
   "outputs": [
    {
     "data": {
      "image/png": "[encoded data removed]",
      "text/plain": [
       "<Figure size 640x480 with 1 Axes>"
      ]
     },
     "metadata": {},
     "output_type": "display_data"
    }
   ],
   "source": [
    "plotChart(fpr, tpr, area)"
   ]
  },
  {
   "cell_type": "markdown",
   "id": "1ca9dce4",
   "metadata": {},
   "source": [
    "## XGBoost Time"
   ]
  },
  {
   "cell_type": "code",
   "execution_count": 44,
   "id": "891ada12",
   "metadata": {},
   "outputs": [
    {
     "name": "stdout",
     "output_type": "stream",
     "text": [
      "              precision    recall  f1-score   support\n",
      "\n",
      "           0       0.89      0.93      0.91       122\n",
      "           1       0.93      0.89      0.91       128\n",
      "\n",
      "    accuracy                           0.91       250\n",
      "   macro avg       0.91      0.91      0.91       250\n",
      "weighted avg       0.91      0.91      0.91       250\n",
      "\n"
     ]
    }
   ],
   "source": [
    "from xgboost import XGBClassifier\n",
    "\n",
    "model = XGBClassifier() \n",
    "model.fit(X_train, y_train)\n",
    "\n",
    "y_pred = model.predict(X_test)\n",
    "report = classification_report(y_test, y_pred)\n",
    "print(report)"
   ]
  },
  {
   "cell_type": "code",
   "execution_count": null,
   "id": "4abb51c3",
   "metadata": {},
   "outputs": [
    {
     "name": "stdout",
     "output_type": "stream",
     "text": [
      "              precision    recall  f1-score   support\n",
      "\n",
      "           0       0.89      0.90      0.90       122\n",
      "           1       0.91      0.90      0.90       128\n",
      "\n",
      "    accuracy                           0.90       250\n",
      "   macro avg       0.90      0.90      0.90       250\n",
      "weighted avg       0.90      0.90      0.90       250\n",
      "\n",
      "32\n",
      "0.01948605\n"
     ]
    }
   ],
   "source": [
    "probabilities_xgb = model.predict_proba(X_test)[:,1]\n",
    "custom_pred_xgb = (probabilities_xgb > 0.4).astype(int)\n",
    "\n",
    "report = classification_report(y_test, y_pred=custom_pred_xgb)\n",
    "print(report)\n",
    "\n",
    "fpr_xgb, tpr_xgb, thresholds_xgb = roc_curve(y_test, probabilities_xgb)\n",
    "\n",
    "desired_recall = 0.95\n",
    "\n",
    "closest_index_xgb = np.argmin(abs(tpr_xgb - desired_recall))\n",
    "print(closest_index_xgb)\n",
    "print(thresholds_xgb[closest_index_xgb])"
   ]
  },
  {
   "cell_type": "code",
   "execution_count": 72,
   "id": "bceeb687",
   "metadata": {},
   "outputs": [
    {
     "name": "stdout",
     "output_type": "stream",
     "text": [
      "              precision    recall  f1-score   support\n",
      "\n",
      "           0       0.92      0.89      0.90       122\n",
      "           1       0.89      0.92      0.91       128\n",
      "\n",
      "    accuracy                           0.90       250\n",
      "   macro avg       0.90      0.90      0.90       250\n",
      "weighted avg       0.90      0.90      0.90       250\n",
      "\n",
      "0.946016905737705\n"
     ]
    }
   ],
   "source": [
    "\n",
    "probabilities_xgb = model.predict_proba(X_test)[:,1]\n",
    "custom_pred_xgb = (probabilities_xgb > 0.26349585272229664).astype(int)\n",
    "\n",
    "report = classification_report(y_test, y_pred=custom_pred_xgb)\n",
    "print(report)\n",
    "\n",
    "area_xgb = auc(fpr_xgb, tpr_xgb)\n",
    "print(area_xgb)"
   ]
  },
  {
   "cell_type": "code",
   "execution_count": 74,
   "id": "3b72bab5",
   "metadata": {},
   "outputs": [
    {
     "data": {
      "image/png": "[encoded data removed]",
      "text/plain": [
       "<Figure size 640x480 with 1 Axes>"
      ]
     },
     "metadata": {},
     "output_type": "display_data"
    }
   ],
   "source": [
    "plt.figure()\n",
    "plt.plot(fpr, tpr, color='darkorange', lw=2, label='ROC curve (area=%0.2f)' % area)\n",
    "plt.plot(fpr_xgb, tpr_xgb, color='green', lw=2, label='ROC curve (area=%0.2f)' % area_xgb)\n",
    "plt.plot([0, 1], [0, 1], color='navy', lw=2, linestyle='--')\n",
    "plt.xlim([0.0, 1.0]),\n",
    "plt.ylim([0.0, 1.05])\n",
    "plt.xlabel('False Positive Rate')\n",
    "plt.ylabel('True Positive Rate')\n",
    "plt.title('Receiver Operating Characteristic')\n",
    "plt.legend (loc= \"lower right\")\n",
    "plt.show()"
   ]
  },
  {
   "cell_type": "code",
   "execution_count": 77,
   "id": "513d5e8e",
   "metadata": {},
   "outputs": [
    {
     "name": "stdout",
     "output_type": "stream",
     "text": [
      "28\n"
     ]
    }
   ],
   "source": [
    "desired_recall = 0.94\n",
    "\n",
    "closest_index_xgb = np.argmin(abs(tpr_xgb - desired_recall))\n",
    "print(closest_index_xgb)"
   ]
  },
  {
   "cell_type": "code",
   "execution_count": 78,
   "id": "49a786d6",
   "metadata": {},
   "outputs": [
    {
     "data": {
      "text/plain": [
       "(np.float32(0.22574013), np.float64(0.12295081967213115))"
      ]
     },
     "execution_count": 78,
     "metadata": {},
     "output_type": "execute_result"
    }
   ],
   "source": [
    "thresholds_xgb[closest_index_xgb], fpr_xgb[closest_index_xgb]"
   ]
  },
  {
   "cell_type": "code",
   "execution_count": null,
   "id": "550a398d",
   "metadata": {},
   "outputs": [],
   "source": []
  }
 ],
 "metadata": {
  "kernelspec": {
   "display_name": "Python 3",
   "language": "python",
   "name": "python3"
  },
  "language_info": {
   "codemirror_mode": {
    "name": "ipython",
    "version": 3
   },
   "file_extension": ".py",
   "mimetype": "text/x-python",
   "name": "python",
   "nbconvert_exporter": "python",
   "pygments_lexer": "ipython3",
   "version": "3.12.6"
  }
 },
 "nbformat": 4,
 "nbformat_minor": 5
}
