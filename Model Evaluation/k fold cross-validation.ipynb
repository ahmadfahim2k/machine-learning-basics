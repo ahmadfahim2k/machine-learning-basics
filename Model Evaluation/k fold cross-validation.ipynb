{
 "cells": [
  {
   "cell_type": "code",
   "execution_count": 19,
   "id": "342e8eaf",
   "metadata": {},
   "outputs": [],
   "source": [
    "import numpy as np\n",
    "import matplotlib.pyplot as plt\n",
    "from sklearn.datasets import make_classification\n",
    "from sklearn.linear_model import LogisticRegression\n",
    "from sklearn.model_selection import train_test_split"
   ]
  },
  {
   "cell_type": "code",
   "execution_count": 20,
   "id": "d23565bd",
   "metadata": {},
   "outputs": [],
   "source": [
    "X, y = make_classification(\n",
    "    n_samples= 1000,\n",
    "    n_features= 10,\n",
    "    n_informative=8,\n",
    "    n_redundant=2,\n",
    "    n_repeated=0,\n",
    "    n_classes=2,\n",
    "    random_state=42\n",
    ")\n",
    "\n",
    "#Splitting data\n",
    "X_train, X_test, y_train, y_test = train_test_split(X, y, test_size=0.25, random_state=42)"
   ]
  },
  {
   "cell_type": "code",
   "execution_count": 21,
   "id": "c64de869",
   "metadata": {},
   "outputs": [
    {
     "name": "stdout",
     "output_type": "stream",
     "text": [
      "              precision    recall  f1-score   support\n",
      "\n",
      "           0       0.65      0.73      0.69       116\n",
      "           1       0.74      0.66      0.70       134\n",
      "\n",
      "    accuracy                           0.70       250\n",
      "   macro avg       0.70      0.70      0.70       250\n",
      "weighted avg       0.70      0.70      0.70       250\n",
      "\n"
     ]
    }
   ],
   "source": [
    "from sklearn.metrics import classification_report\n",
    "\n",
    "model = LogisticRegression()\n",
    "model.fit(X_train, y_train)\n",
    "\n",
    "\n",
    "y_pred = model.predict(X_test)\n",
    "report = classification_report(y_pred, y_test)\n",
    "print(report)"
   ]
  },
  {
   "cell_type": "code",
   "execution_count": 22,
   "id": "8788a8eb",
   "metadata": {},
   "outputs": [
    {
     "data": {
      "text/plain": [
       "[0.675, 0.715, 0.72, 0.645, 0.72]"
      ]
     },
     "execution_count": 22,
     "metadata": {},
     "output_type": "execute_result"
    }
   ],
   "source": [
    "from sklearn.model_selection import KFold\n",
    "\n",
    "kf = KFold(n_splits=5, shuffle=True, random_state=42)\n",
    "\n",
    "scores = []\n",
    "\n",
    "for train_index, test_index in kf.split(X, y):\n",
    "    X_train, X_test = X[train_index], X[test_index]\n",
    "    y_train, y_test = y[train_index], y[test_index]\n",
    "    \n",
    "    model.fit(X_train, y_train)\n",
    "    scores.append(model.score(X_test, y_test))\n",
    "scores"
   ]
  },
  {
   "cell_type": "markdown",
   "id": "72201e08",
   "metadata": {},
   "source": [
    "### Evaluate Logistic Regression"
   ]
  },
  {
   "cell_type": "code",
   "execution_count": 23,
   "id": "c38f073f",
   "metadata": {},
   "outputs": [
    {
     "data": {
      "text/plain": [
       "np.float64(0.6950000000000001)"
      ]
     },
     "execution_count": 23,
     "metadata": {},
     "output_type": "execute_result"
    }
   ],
   "source": [
    "from sklearn.model_selection import cross_val_score\n",
    "\n",
    "scores_logistic = cross_val_score(LogisticRegression(), X, y, cv=kf)\n",
    "np.average(scores_logistic)"
   ]
  },
  {
   "cell_type": "markdown",
   "id": "62098985",
   "metadata": {},
   "source": [
    "### Evaluate Decision Tree"
   ]
  },
  {
   "cell_type": "code",
   "execution_count": 24,
   "id": "133cd806",
   "metadata": {},
   "outputs": [
    {
     "data": {
      "text/plain": [
       "np.float64(0.7969999999999999)"
      ]
     },
     "execution_count": 24,
     "metadata": {},
     "output_type": "execute_result"
    }
   ],
   "source": [
    "from sklearn.tree import DecisionTreeClassifier\n",
    "\n",
    "scores_dtree = cross_val_score(DecisionTreeClassifier(), X, y, cv=kf)\n",
    "np.average(scores_dtree)"
   ]
  },
  {
   "cell_type": "markdown",
   "id": "3b00307f",
   "metadata": {},
   "source": [
    "### Evaluate XGBoost"
   ]
  },
  {
   "cell_type": "code",
   "execution_count": 25,
   "id": "c574f1d3",
   "metadata": {},
   "outputs": [
    {
     "data": {
      "text/plain": [
       "np.float64(0.897)"
      ]
     },
     "execution_count": 25,
     "metadata": {},
     "output_type": "execute_result"
    }
   ],
   "source": [
    "from xgboost import XGBClassifier\n",
    "\n",
    "scores_xgb = cross_val_score(XGBClassifier(), X, y, cv=kf)\n",
    "np.average(scores_xgb)"
   ]
  },
  {
   "cell_type": "markdown",
   "id": "ef64da36",
   "metadata": {},
   "source": [
    "### Evaluate Random Forest"
   ]
  },
  {
   "cell_type": "code",
   "execution_count": 26,
   "id": "fc12ecb4",
   "metadata": {},
   "outputs": [
    {
     "data": {
      "text/plain": [
       "np.float64(0.8780000000000001)"
      ]
     },
     "execution_count": 26,
     "metadata": {},
     "output_type": "execute_result"
    }
   ],
   "source": [
    "from sklearn.ensemble import RandomForestClassifier\n",
    "\n",
    "scores_rforest = cross_val_score(RandomForestClassifier(n_estimators=20), X, y, cv=kf)\n",
    "np.average(scores_rforest)"
   ]
  },
  {
   "cell_type": "code",
   "execution_count": 28,
   "id": "947821ae",
   "metadata": {},
   "outputs": [
    {
     "data": {
      "text/plain": [
       "np.float64(0.875)"
      ]
     },
     "execution_count": 28,
     "metadata": {},
     "output_type": "execute_result"
    }
   ],
   "source": [
    "from sklearn.ensemble import RandomForestClassifier\n",
    "\n",
    "scores_rforest = cross_val_score(RandomForestClassifier(n_estimators=30), X, y, cv=kf)\n",
    "np.average(scores_rforest)"
   ]
  },
  {
   "cell_type": "code",
   "execution_count": 29,
   "id": "ba0ea824",
   "metadata": {},
   "outputs": [
    {
     "data": {
      "text/plain": [
       "{'fit_time': array([0.00900126, 0.01100373, 0.01100111, 0.01100349, 0.01200461]),\n",
       " 'score_time': array([0.00600052, 0.00300026, 0.00547576, 0.00400114, 0.00300074]),\n",
       " 'test_accuracy': array([0.75 , 0.8  , 0.775, 0.825, 0.82 ]),\n",
       " 'test_roc_auc': array([0.74789241, 0.79851941, 0.77661064, 0.82692308, 0.82175833])}"
      ]
     },
     "execution_count": 29,
     "metadata": {},
     "output_type": "execute_result"
    }
   ],
   "source": [
    "from sklearn.model_selection import cross_validate\n",
    "\n",
    "cross_validate(DecisionTreeClassifier(), X, y, cv=kf, scoring=['accuracy', 'roc_auc'])"
   ]
  }
 ],
 "metadata": {
  "kernelspec": {
   "display_name": "Python 3",
   "language": "python",
   "name": "python3"
  },
  "language_info": {
   "codemirror_mode": {
    "name": "ipython",
    "version": 3
   },
   "file_extension": ".py",
   "mimetype": "text/x-python",
   "name": "python",
   "nbconvert_exporter": "python",
   "pygments_lexer": "ipython3",
   "version": "3.12.6"
  }
 },
 "nbformat": 4,
 "nbformat_minor": 5
}
