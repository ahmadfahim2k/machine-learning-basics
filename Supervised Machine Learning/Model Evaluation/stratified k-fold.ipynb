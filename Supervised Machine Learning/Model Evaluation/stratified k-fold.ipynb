{
 "cells": [
  {
   "cell_type": "code",
   "execution_count": 16,
   "id": "1134f39b",
   "metadata": {},
   "outputs": [],
   "source": [
    "import numpy as np\n",
    "import matplotlib.pyplot as plt\n",
    "from sklearn.datasets import make_classification\n",
    "from sklearn.linear_model import LogisticRegression\n",
    "from sklearn.model_selection import train_test_split"
   ]
  },
  {
   "cell_type": "code",
   "execution_count": 17,
   "id": "cae773b3",
   "metadata": {},
   "outputs": [],
   "source": [
    "X, y = make_classification(\n",
    "    n_samples= 1000,\n",
    "    n_features= 10,\n",
    "    n_informative=8,\n",
    "    n_redundant=2,\n",
    "    n_repeated=0,\n",
    "    n_classes=2,\n",
    "    weights=[0.9, 0.1],\n",
    "    random_state=42\n",
    ")\n",
    "\n",
    "#Splitting data\n",
    "X_train, X_test, y_train, y_test = train_test_split(X, y, test_size=0.25, random_state=42)"
   ]
  },
  {
   "cell_type": "code",
   "execution_count": 18,
   "id": "db16334f",
   "metadata": {},
   "outputs": [
    {
     "data": {
      "text/plain": [
       "Counter({np.int64(0): 897, np.int64(1): 103})"
      ]
     },
     "execution_count": 18,
     "metadata": {},
     "output_type": "execute_result"
    }
   ],
   "source": [
    "from collections import Counter\n",
    "\n",
    "Counter(y)"
   ]
  },
  {
   "cell_type": "code",
   "execution_count": 19,
   "id": "15ad39fc",
   "metadata": {},
   "outputs": [
    {
     "name": "stdout",
     "output_type": "stream",
     "text": [
      "Target class: Counter({np.int64(0): 720, np.int64(1): 80})\n",
      "Target class: Counter({np.int64(0): 718, np.int64(1): 82})\n",
      "Target class: Counter({np.int64(0): 714, np.int64(1): 86})\n",
      "Target class: Counter({np.int64(0): 716, np.int64(1): 84})\n",
      "Target class: Counter({np.int64(0): 720, np.int64(1): 80})\n"
     ]
    }
   ],
   "source": [
    "from sklearn.model_selection import KFold\n",
    "\n",
    "kf = KFold(n_splits=5, shuffle=True, random_state=42)\n",
    "\n",
    "for train_index, test_index in kf.split(X, y):\n",
    "    X_train, X_test = X[train_index], X[test_index]\n",
    "    y_train, y_test = y[train_index], y[test_index]\n",
    "    print(f'Target class: {Counter(y_train)}')\n",
    "    # print(f'Target class: {Counter(y_test)}')\n"
   ]
  },
  {
   "cell_type": "code",
   "execution_count": 20,
   "id": "2887fe04",
   "metadata": {},
   "outputs": [
    {
     "name": "stdout",
     "output_type": "stream",
     "text": [
      "Target class: Counter({np.int64(0): 717, np.int64(1): 83})\n",
      "Target class: Counter({np.int64(0): 717, np.int64(1): 83})\n",
      "Target class: Counter({np.int64(0): 718, np.int64(1): 82})\n",
      "Target class: Counter({np.int64(0): 718, np.int64(1): 82})\n",
      "Target class: Counter({np.int64(0): 718, np.int64(1): 82})\n"
     ]
    }
   ],
   "source": [
    "from sklearn.model_selection import StratifiedKFold\n",
    "\n",
    "skf = StratifiedKFold(n_splits=5, shuffle=True, random_state=42)\n",
    "\n",
    "for train_index, test_index in skf.split(X, y):\n",
    "    X_train, X_test = X[train_index], X[test_index]\n",
    "    y_train, y_test = y[train_index], y[test_index]\n",
    "    print(f'Target class: {Counter(y_train)}')\n",
    "    # print(f'Target class: {Counter(y_test)}')\n"
   ]
  },
  {
   "cell_type": "markdown",
   "id": "27895b76",
   "metadata": {},
   "source": [
    "### Evaluate Logistic Regression"
   ]
  },
  {
   "cell_type": "code",
   "execution_count": 21,
   "id": "1592bd7b",
   "metadata": {},
   "outputs": [
    {
     "data": {
      "text/plain": [
       "np.float64(0.897)"
      ]
     },
     "execution_count": 21,
     "metadata": {},
     "output_type": "execute_result"
    }
   ],
   "source": [
    "from sklearn.model_selection import cross_val_score\n",
    "\n",
    "scores_logistic = cross_val_score(LogisticRegression(), X, y, cv=kf)\n",
    "np.average(scores_logistic)"
   ]
  },
  {
   "cell_type": "markdown",
   "id": "13060c4c",
   "metadata": {},
   "source": [
    "### Evaluate Decision Tree"
   ]
  },
  {
   "cell_type": "code",
   "execution_count": 22,
   "id": "e09062f0",
   "metadata": {},
   "outputs": [
    {
     "data": {
      "text/plain": [
       "np.float64(0.8699999999999999)"
      ]
     },
     "execution_count": 22,
     "metadata": {},
     "output_type": "execute_result"
    }
   ],
   "source": [
    "from sklearn.tree import DecisionTreeClassifier\n",
    "\n",
    "scores_dtree = cross_val_score(DecisionTreeClassifier(), X, y, cv=kf)\n",
    "np.average(scores_dtree)"
   ]
  },
  {
   "cell_type": "markdown",
   "id": "75c33aa7",
   "metadata": {},
   "source": [
    "### Evaluate XGBoost"
   ]
  },
  {
   "cell_type": "code",
   "execution_count": 23,
   "id": "d5525e1d",
   "metadata": {},
   "outputs": [
    {
     "data": {
      "text/plain": [
       "np.float64(0.9340000000000002)"
      ]
     },
     "execution_count": 23,
     "metadata": {},
     "output_type": "execute_result"
    }
   ],
   "source": [
    "from xgboost import XGBClassifier\n",
    "\n",
    "scores_xgb = cross_val_score(XGBClassifier(), X, y, cv=kf)\n",
    "np.average(scores_xgb)"
   ]
  },
  {
   "cell_type": "markdown",
   "id": "3e3c00c3",
   "metadata": {},
   "source": [
    "### Evaluate Random Forest"
   ]
  },
  {
   "cell_type": "code",
   "execution_count": 24,
   "id": "749914e2",
   "metadata": {},
   "outputs": [
    {
     "data": {
      "text/plain": [
       "np.float64(0.914)"
      ]
     },
     "execution_count": 24,
     "metadata": {},
     "output_type": "execute_result"
    }
   ],
   "source": [
    "from sklearn.ensemble import RandomForestClassifier\n",
    "\n",
    "scores_rforest = cross_val_score(RandomForestClassifier(n_estimators=20), X, y, cv=kf)\n",
    "np.average(scores_rforest)"
   ]
  },
  {
   "cell_type": "code",
   "execution_count": 25,
   "id": "24899be6",
   "metadata": {},
   "outputs": [
    {
     "data": {
      "text/plain": [
       "np.float64(0.917)"
      ]
     },
     "execution_count": 25,
     "metadata": {},
     "output_type": "execute_result"
    }
   ],
   "source": [
    "from sklearn.ensemble import RandomForestClassifier\n",
    "\n",
    "scores_rforest = cross_val_score(RandomForestClassifier(n_estimators=30), X, y, cv=kf)\n",
    "np.average(scores_rforest)"
   ]
  },
  {
   "cell_type": "code",
   "execution_count": 26,
   "id": "0ae5bc8b",
   "metadata": {},
   "outputs": [
    {
     "data": {
      "text/plain": [
       "{'fit_time': array([0.01200175, 0.01100183, 0.01200271, 0.01300168, 0.01000023]),\n",
       " 'score_time': array([0.00400257, 0.00300193, 0.00400114, 0.0030005 , 0.00300241]),\n",
       " 'test_accuracy': array([0.88 , 0.885, 0.865, 0.855, 0.88 ]),\n",
       " 'test_roc_auc': array([0.64848931, 0.66254323, 0.63275474, 0.61369584, 0.68631786])}"
      ]
     },
     "execution_count": 26,
     "metadata": {},
     "output_type": "execute_result"
    }
   ],
   "source": [
    "from sklearn.model_selection import cross_validate\n",
    "\n",
    "cross_validate(DecisionTreeClassifier(), X, y, cv=kf, scoring=['accuracy', 'roc_auc'])"
   ]
  }
 ],
 "metadata": {
  "kernelspec": {
   "display_name": "Python 3",
   "language": "python",
   "name": "python3"
  },
  "language_info": {
   "codemirror_mode": {
    "name": "ipython",
    "version": 3
   },
   "file_extension": ".py",
   "mimetype": "text/x-python",
   "name": "python",
   "nbconvert_exporter": "python",
   "pygments_lexer": "ipython3",
   "version": "3.12.6"
  }
 },
 "nbformat": 4,
 "nbformat_minor": 5
}
